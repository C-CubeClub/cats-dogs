{
 "cells": [
  {
   "cell_type": "markdown",
   "metadata": {},
   "source": [
    "# Plan\n",
    "\n",
    "1. Rearrange the files into train/test/valid folders separated into the two classes dogs and cats\n",
    "2. Create sample set along with the above folders\n",
    "3. Finetune and train model\n",
    "4. Generate predictions\n",
    "5. Validate predictions\n",
    "6. Submit to kaggle"
   ]
  },
  {
   "cell_type": "markdown",
   "metadata": {},
   "source": [
    "## Rearrange files"
   ]
  },
  {
   "cell_type": "code",
   "execution_count": 1,
   "metadata": {},
   "outputs": [
    {
     "data": {
      "text/plain": [
       "'/home/niraj/FastAI/catsdogs'"
      ]
     },
     "execution_count": 1,
     "metadata": {},
     "output_type": "execute_result"
    }
   ],
   "source": [
    "import os, sys, glob, numpy as np\n",
    "current_dir = os.getcwd()\n",
    "CODE_DIR = current_dir\n",
    "DATA_DIR = current_dir + \"/data\"\n",
    "%pwd"
   ]
  },
  {
   "cell_type": "code",
   "execution_count": 2,
   "metadata": {},
   "outputs": [
    {
     "name": "stdout",
     "output_type": "stream",
     "text": [
      "/home/niraj/FastAI/catsdogs/data\n"
     ]
    }
   ],
   "source": [
    "%cd $DATA_DIR\n",
    "%mkdir -p train/dogs\n",
    "%mkdir -p train/cats\n",
    "%mkdir -p sample/test\n",
    "%mkdir -p sample/train/dogs\n",
    "%mkdir -p sample/train/cats\n",
    "%mkdir -p sample/valid/dogs\n",
    "%mkdir -p sample/valid/cats\n",
    "%mkdir -p valid/dogs\n",
    "%mkdir -p valid/cats\n",
    "%mkdir results"
   ]
  },
  {
   "cell_type": "markdown",
   "metadata": {},
   "source": [
    "## Todo: Make a folder inside results and move all the test images in that folder"
   ]
  },
  {
   "cell_type": "code",
   "execution_count": 3,
   "metadata": {},
   "outputs": [
    {
     "name": "stdout",
     "output_type": "stream",
     "text": [
      "/home/niraj/FastAI/catsdogs/data/train\n",
      "25000\n"
     ]
    }
   ],
   "source": [
    "%cd $DATA_DIR/train\n",
    "images = glob.glob(\"*.jpg\")\n",
    "print(len(images))\n",
    "for i in range(25000):\n",
    "    if(\"cat\" in images[i]):\n",
    "        os.rename(images[i], DATA_DIR + \"/train/cats/\" + images[i])\n",
    "    else:\n",
    "        os.rename(images[i], DATA_DIR + \"/train/dogs/\" + images[i])"
   ]
  },
  {
   "cell_type": "code",
   "execution_count": 4,
   "metadata": {},
   "outputs": [
    {
     "name": "stdout",
     "output_type": "stream",
     "text": [
      "/home/niraj/FastAI/catsdogs/data/train/dogs\n"
     ]
    }
   ],
   "source": [
    "%cd $DATA_DIR/train/dogs\n",
    "dog_images = glob.glob(\"*.jpg\")\n",
    "for i in range(1000):\n",
    "    os.rename(dog_images[i], DATA_DIR + \"/valid/dogs/\" + dog_images[i])"
   ]
  },
  {
   "cell_type": "code",
   "execution_count": 5,
   "metadata": {},
   "outputs": [
    {
     "name": "stdout",
     "output_type": "stream",
     "text": [
      "/home/niraj/FastAI/catsdogs/data/train/cats\n"
     ]
    }
   ],
   "source": [
    "%cd $DATA_DIR/train/cats\n",
    "cat_images = glob.glob(\"*.jpg\")\n",
    "for i in range(1000):\n",
    "    os.rename(cat_images[i], DATA_DIR + \"/valid/cats/\" + cat_images[i])   "
   ]
  },
  {
   "cell_type": "code",
   "execution_count": 6,
   "metadata": {},
   "outputs": [],
   "source": [
    "from shutil import copyfile"
   ]
  },
  {
   "cell_type": "code",
   "execution_count": 7,
   "metadata": {},
   "outputs": [
    {
     "name": "stdout",
     "output_type": "stream",
     "text": [
      "/home/niraj/FastAI/catsdogs/data/train/dogs\n",
      "/home/niraj/FastAI/catsdogs/data/train/cats\n"
     ]
    }
   ],
   "source": [
    "%cd $DATA_DIR/train/dogs\n",
    "dog_images = glob.glob(\"*.jpg\")\n",
    "for i in range(100):\n",
    "    copyfile(dog_images[i], DATA_DIR + \"/sample/train/dogs/\" + dog_images[i])\n",
    "\n",
    "%cd $DATA_DIR/train/cats\n",
    "cat_images = glob.glob(\"*.jpg\")\n",
    "for i in range(100):\n",
    "    copyfile(cat_images[i], DATA_DIR + \"/sample/train/cats/\" + cat_images[i]) "
   ]
  },
  {
   "cell_type": "code",
   "execution_count": 8,
   "metadata": {},
   "outputs": [
    {
     "name": "stdout",
     "output_type": "stream",
     "text": [
      "/home/niraj/FastAI/catsdogs/data/valid/dogs\n",
      "/home/niraj/FastAI/catsdogs/data/valid/cats\n"
     ]
    }
   ],
   "source": [
    "%cd $DATA_DIR/valid/dogs\n",
    "dog_images = glob.glob(\"*.jpg\")\n",
    "for i in range(25):\n",
    "    copyfile(dog_images[i], DATA_DIR + \"/sample/valid/dogs/\" + dog_images[i])\n",
    "\n",
    "%cd $DATA_DIR/valid/cats\n",
    "cat_images = glob.glob(\"*.jpg\")\n",
    "for i in range(25):\n",
    "    copyfile(cat_images[i], DATA_DIR + \"/sample/valid/cats/\" + cat_images[i])"
   ]
  },
  {
   "cell_type": "code",
   "execution_count": 30,
   "metadata": {},
   "outputs": [
    {
     "name": "stdout",
     "output_type": "stream",
     "text": [
      "/home/niraj/FastAI/catsdogs\n"
     ]
    }
   ],
   "source": [
    "%cd $CODE_DIR"
   ]
  },
  {
   "cell_type": "markdown",
   "metadata": {},
   "source": [
    "# Import necessary modules and set appropriate paths"
   ]
  },
  {
   "cell_type": "code",
   "execution_count": 2,
   "metadata": {},
   "outputs": [
    {
     "name": "stderr",
     "output_type": "stream",
     "text": [
      "Using TensorFlow backend.\n",
      "/home/niraj/anaconda3/envs/fastai/lib/python3.6/importlib/_bootstrap.py:219: RuntimeWarning: compiletime version 3.5 of module 'tensorflow.python.framework.fast_tensor_util' does not match runtime version 3.6\n",
      "  return f(*args, **kwds)\n"
     ]
    }
   ],
   "source": [
    "%matplotlib inline\n",
    "import json\n",
    "from importlib import reload\n",
    "import utils; reload(utils)\n",
    "from utils import *\n",
    "from matplotlib import pyplot as plt\n",
    "import vgg16; reload(vgg16)\n",
    "from vgg16 import Vgg16"
   ]
  },
  {
   "cell_type": "code",
   "execution_count": 3,
   "metadata": {},
   "outputs": [],
   "source": [
    "path = DATA_DIR\n",
    "train_path = path + \"/train\"\n",
    "valid_path = path + \"/valid\"\n",
    "result_path = DATA_DIR + \"/results\"\n",
    "test_path = DATA_DIR + \"/test\""
   ]
  },
  {
   "cell_type": "code",
   "execution_count": 4,
   "metadata": {},
   "outputs": [],
   "source": [
    "batch_size=64\n",
    "no_of_epochs=5"
   ]
  },
  {
   "cell_type": "markdown",
   "metadata": {},
   "source": [
    "# Finetune over batches of images"
   ]
  },
  {
   "cell_type": "code",
   "execution_count": 5,
   "metadata": {},
   "outputs": [
    {
     "name": "stderr",
     "output_type": "stream",
     "text": [
      "/home/niraj/FastAI/catsdogs/vgg16.py:100: UserWarning: Update your `Conv2D` call to the Keras 2 API: `Conv2D(64, (3, 3), activation=\"relu\")`\n",
      "  model.add(Convolution2D(filters, 3, 3, activation='relu'))\n",
      "/home/niraj/FastAI/catsdogs/vgg16.py:100: UserWarning: Update your `Conv2D` call to the Keras 2 API: `Conv2D(128, (3, 3), activation=\"relu\")`\n",
      "  model.add(Convolution2D(filters, 3, 3, activation='relu'))\n",
      "/home/niraj/FastAI/catsdogs/vgg16.py:100: UserWarning: Update your `Conv2D` call to the Keras 2 API: `Conv2D(256, (3, 3), activation=\"relu\")`\n",
      "  model.add(Convolution2D(filters, 3, 3, activation='relu'))\n",
      "/home/niraj/FastAI/catsdogs/vgg16.py:100: UserWarning: Update your `Conv2D` call to the Keras 2 API: `Conv2D(512, (3, 3), activation=\"relu\")`\n",
      "  model.add(Convolution2D(filters, 3, 3, activation='relu'))\n"
     ]
    },
    {
     "name": "stdout",
     "output_type": "stream",
     "text": [
      "Found 23000 images belonging to 2 classes.\n",
      "Found 2000 images belonging to 2 classes.\n"
     ]
    }
   ],
   "source": [
    "vgg = Vgg16()\n",
    "batches = vgg.get_batches(train_path, batch_size=batch_size)\n",
    "val_batches = vgg.get_batches(valid_path, batch_size=batch_size*2)\n",
    "\n",
    "batches.nb_class = 2\n",
    "batches.nb_sample = batches.samples\n",
    "val_batches.nb_class = 2\n",
    "val_batches.nb_sample = val_batches.samples\n",
    "\n",
    "vgg.finetune(batches)"
   ]
  },
  {
   "cell_type": "markdown",
   "metadata": {},
   "source": [
    "# Train the model"
   ]
  },
  {
   "cell_type": "code",
   "execution_count": 35,
   "metadata": {},
   "outputs": [],
   "source": [
    "vgg.model.load_weights(result_path + \"/\" + \"ft0.h5\")"
   ]
  },
  {
   "cell_type": "code",
   "execution_count": 6,
   "metadata": {
    "scrolled": true
   },
   "outputs": [
    {
     "name": "stdout",
     "output_type": "stream",
     "text": [
      "Running epoch: 1\n",
      "Epoch 1/1\n",
      "360/360 [==============================] - 86s 238ms/step - loss: 1.4263 - acc: 0.8710 - val_loss: 0.9621 - val_acc: 0.9167\n",
      "Running epoch: 2\n",
      "Epoch 1/1\n",
      "360/360 [==============================] - 83s 231ms/step - loss: 1.4721 - acc: 0.8888 - val_loss: 1.1278 - val_acc: 0.9153\n",
      "Running epoch: 3\n",
      "Epoch 1/1\n",
      "360/360 [==============================] - 84s 233ms/step - loss: 1.4769 - acc: 0.8931 - val_loss: 1.0051 - val_acc: 0.9263\n",
      "Running epoch: 4\n",
      "Epoch 1/1\n",
      "360/360 [==============================] - 85s 235ms/step - loss: 1.4978 - acc: 0.8945 - val_loss: 1.1413 - val_acc: 0.9160\n",
      "Running epoch: 5\n",
      "Epoch 1/1\n",
      "360/360 [==============================] - 90s 251ms/step - loss: 1.4907 - acc: 0.8975 - val_loss: 1.1125 - val_acc: 0.9230\n",
      "Completed 5 fit operations\n"
     ]
    }
   ],
   "source": [
    "latest_weights_filename = None\n",
    "for epoch in range(no_of_epochs):\n",
    "    print(\"Running epoch: {}\".format(epoch+1))\n",
    "    vgg.fit(batches, val_batches, batch_size, nb_epoch=1)\n",
    "    latest_weights_filename = \"ft\" + str(epoch+1) + \".h5\"\n",
    "    vgg.model.save_weights(result_path+\"/\"+latest_weights_filename)\n",
    "print(\"Completed {} fit operations\".format(no_of_epochs))"
   ]
  },
  {
   "cell_type": "markdown",
   "metadata": {},
   "source": [
    "# Generate predictions"
   ]
  },
  {
   "cell_type": "code",
   "execution_count": 55,
   "metadata": {},
   "outputs": [],
   "source": [
    "vgg.model.load_weights(result_path + \"/ft2.h5\")"
   ]
  },
  {
   "cell_type": "code",
   "execution_count": 56,
   "metadata": {},
   "outputs": [
    {
     "name": "stdout",
     "output_type": "stream",
     "text": [
      "Found 12500 images belonging to 1 classes.\n"
     ]
    }
   ],
   "source": [
    "batches, predictions = vgg.test(test_path, batch_size = batch_size)"
   ]
  },
  {
   "cell_type": "code",
   "execution_count": 57,
   "metadata": {},
   "outputs": [
    {
     "name": "stdout",
     "output_type": "stream",
     "text": [
      "[  9.9893e-01   8.8729e-04   3.2916e-04   9.9998e-01   6.4718e-02]\n",
      "[ 1.  0.  0.  1.  0.]\n"
     ]
    }
   ],
   "source": [
    "expected_class = batches.classes\n",
    "filenames = batches.filenames\n",
    "\n",
    "#Round our predictions to 0/1 to generate labels\n",
    "our_predictions = predictions[:,1]\n",
    "our_labels = np.round(our_predictions)\n",
    "print(our_predictions[:5])\n",
    "print(our_labels[:5])"
   ]
  },
  {
   "cell_type": "code",
   "execution_count": 40,
   "metadata": {
    "scrolled": true
   },
   "outputs": [],
   "source": [
    "from PIL import Image\n",
    "im = Image.open(test_path + \"/\" + filenames[11])\n",
    "im.show()"
   ]
  },
  {
   "cell_type": "markdown",
   "metadata": {},
   "source": [
    "# Submit to Kaggle"
   ]
  },
  {
   "cell_type": "code",
   "execution_count": 20,
   "metadata": {},
   "outputs": [
    {
     "data": {
      "image/png": "[encoded data removed]",
      "text/plain": [
       "<matplotlib.figure.Figure at 0x7f88682dc198>"
      ]
     },
     "metadata": {},
     "output_type": "display_data"
    }
   ],
   "source": [
    "#Visualize Log Loss when True value = 1\n",
    "#y-axis is log loss, x-axis is probabilty that label = 1\n",
    "#As you can see Log Loss increases rapidly as we approach 0\n",
    "#But increases slowly as our predicted probability gets closer to 1\n",
    "import matplotlib.pyplot as plt\n",
    "import numpy as np\n",
    "from sklearn.metrics import log_loss\n",
    "\n",
    "x = [i*.0001 for i in range(1,10000)]\n",
    "y = [log_loss([0],[[i*.0001,1-(i*.0001)]],eps=1e-15, labels=[0,1]) for i in range(1,10000,1)]\n",
    "\n",
    "plt.plot(x, y)\n",
    "plt.axis([-.05, 1.1, -.8, 10])\n",
    "plt.title(\"Log Loss when true label = 1\")\n",
    "plt.xlabel(\"predicted probability\")\n",
    "plt.ylabel(\"log loss\")\n",
    "\n",
    "plt.show()"
   ]
  },
  {
   "cell_type": "code",
   "execution_count": 58,
   "metadata": {},
   "outputs": [],
   "source": [
    "# From the above image and prediction we notice that the second column is dog and first is cat.\n",
    "isdog = predictions[:,1]\n",
    "# We round it to such numbers to decrease the penalty for wrong predictions (due to log loss as potrayed in the above cell)\n",
    "isdog = isdog.clip(0.05,0.95)"
   ]
  },
  {
   "cell_type": "code",
   "execution_count": 59,
   "metadata": {},
   "outputs": [
    {
     "data": {
      "text/plain": [
       "array([[  1.0000e+00,   9.5000e-01],\n",
       "       [  1.0000e+01,   5.0000e-02],\n",
       "       [  1.0000e+02,   5.0000e-02],\n",
       "       [  1.0000e+03,   9.5000e-01],\n",
       "       [  1.0000e+04,   6.4718e-02]])"
      ]
     },
     "execution_count": 59,
     "metadata": {},
     "output_type": "execute_result"
    }
   ],
   "source": [
    "ids = np.array([int(f[8:f.find('.')]) for f in filenames])\n",
    "sub = np.stack([ids,isdog],axis=1)\n",
    "sub[:5]"
   ]
  },
  {
   "cell_type": "code",
   "execution_count": 60,
   "metadata": {},
   "outputs": [
    {
     "name": "stdout",
     "output_type": "stream",
     "text": [
      "/home/niraj/FastAI/catsdogs\n"
     ]
    }
   ],
   "source": [
    "%cd $CODE_DIR\n",
    "submission_file_name = 'submission_v2.csv'\n",
    "np.savetxt(submission_file_name, sub, fmt='%d,%.5f', header='id,label', comments='')"
   ]
  },
  {
   "cell_type": "code",
   "execution_count": 61,
   "metadata": {},
   "outputs": [
    {
     "name": "stdout",
     "output_type": "stream",
     "text": [
      "/home/niraj/FastAI/catsdogs\n"
     ]
    },
    {
     "data": {
      "text/html": [
       "<a href='submission_v2.csv' target='_blank'>submission_v2.csv</a><br>"
      ],
      "text/plain": [
       "/home/niraj/FastAI/catsdogs/submission_v2.csv"
      ]
     },
     "execution_count": 61,
     "metadata": {},
     "output_type": "execute_result"
    }
   ],
   "source": [
    "from IPython.display import FileLink\n",
    "%cd $CODE_DIR\n",
    "FileLink(submission_file_name)"
   ]
  },
  {
   "cell_type": "code",
   "execution_count": null,
   "metadata": {},
   "outputs": [],
   "source": []
  }
 ],
 "metadata": {
  "kernelspec": {
   "display_name": "Python [conda env:fastai]",
   "language": "python",
   "name": "conda-env-fastai-py"
  },
  "language_info": {
   "codemirror_mode": {
    "name": "ipython",
    "version": 3
   },
   "file_extension": ".py",
   "mimetype": "text/x-python",
   "name": "python",
   "nbconvert_exporter": "python",
   "pygments_lexer": "ipython3",
   "version": "3.6.3"
  }
 },
 "nbformat": 4,
 "nbformat_minor": 2
}
