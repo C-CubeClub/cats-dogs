{
 "cells": [
  {
   "cell_type": "markdown",
   "metadata": {},
   "source": [
    "# Plan\n",
    "\n",
    "1. Rearrange the files into train/test/valid folders separated into the two classes dogs and cats\n",
    "2. Create sample set along with the above folders\n",
    "3. Finetune and train model\n",
    "4. Generate predictions\n",
    "5. Validate predictions\n",
    "6. Submit to kaggle"
   ]
  },
  {
   "cell_type": "markdown",
   "metadata": {},
   "source": [
    "## Rearrange files"
   ]
  },
  {
   "cell_type": "code",
   "execution_count": 1,
   "metadata": {},
   "outputs": [],
   "source": [
    "import os, sys, glob, numpy as np\n",
    "current_dir = os.getcwd()\n",
    "CODE_DIR = current_dir\n",
    "DATA_DIR = current_dir + \"/data\""
   ]
  },
  {
   "cell_type": "code",
   "execution_count": 2,
   "metadata": {},
   "outputs": [
    {
     "name": "stdout",
     "output_type": "stream",
     "text": [
      "/home/niraj/FastAI/catsdogs/data\n"
     ]
    }
   ],
   "source": [
    "%cd $DATA_DIR\n",
    "%mkdir -p train/dogs\n",
    "%mkdir -p train/cats\n",
    "%mkdir -p sample/test\n",
    "%mkdir -p sample/train/dogs\n",
    "%mkdir -p sample/train/cats\n",
    "%mkdir -p sample/valid/dogs\n",
    "%mkdir -p sample/valid/cats\n",
    "%mkdir -p valid/dogs\n",
    "%mkdir -p valid/cats\n",
    "%mkdir results"
   ]
  },
  {
   "cell_type": "code",
   "execution_count": 3,
   "metadata": {},
   "outputs": [
    {
     "name": "stdout",
     "output_type": "stream",
     "text": [
      "/home/niraj/FastAI/catsdogs/data/train\n",
      "25000\n"
     ]
    }
   ],
   "source": [
    "%cd $DATA_DIR/train\n",
    "images = glob.glob(\"*.jpg\")\n",
    "print(len(images))\n",
    "for i in range(25000):\n",
    "    if(\"cat\" in images[i]):\n",
    "        os.rename(images[i], DATA_DIR + \"/train/cats/\" + images[i])\n",
    "    else:\n",
    "        os.rename(images[i], DATA_DIR + \"/train/dogs/\" + images[i])"
   ]
  },
  {
   "cell_type": "code",
   "execution_count": 4,
   "metadata": {},
   "outputs": [
    {
     "name": "stdout",
     "output_type": "stream",
     "text": [
      "/home/niraj/FastAI/catsdogs/data/train/dogs\n"
     ]
    }
   ],
   "source": [
    "%cd $DATA_DIR/train/dogs\n",
    "dog_images = glob.glob(\"*.jpg\")\n",
    "for i in range(1000):\n",
    "    os.rename(dog_images[i], DATA_DIR + \"/valid/dogs/\" + dog_images[i])"
   ]
  },
  {
   "cell_type": "code",
   "execution_count": 5,
   "metadata": {},
   "outputs": [
    {
     "name": "stdout",
     "output_type": "stream",
     "text": [
      "/home/niraj/FastAI/catsdogs/data/train/cats\n"
     ]
    }
   ],
   "source": [
    "%cd $DATA_DIR/train/cats\n",
    "cat_images = glob.glob(\"*.jpg\")\n",
    "for i in range(1000):\n",
    "    os.rename(cat_images[i], DATA_DIR + \"/valid/cats/\" + cat_images[i])   "
   ]
  },
  {
   "cell_type": "code",
   "execution_count": 6,
   "metadata": {},
   "outputs": [],
   "source": [
    "from shutil import copyfile"
   ]
  },
  {
   "cell_type": "code",
   "execution_count": 7,
   "metadata": {},
   "outputs": [
    {
     "name": "stdout",
     "output_type": "stream",
     "text": [
      "/home/niraj/FastAI/catsdogs/data/train/dogs\n",
      "/home/niraj/FastAI/catsdogs/data/train/cats\n"
     ]
    }
   ],
   "source": [
    "%cd $DATA_DIR/train/dogs\n",
    "dog_images = glob.glob(\"*.jpg\")\n",
    "for i in range(100):\n",
    "    copyfile(dog_images[i], DATA_DIR + \"/sample/train/dogs/\" + dog_images[i])\n",
    "\n",
    "%cd $DATA_DIR/train/cats\n",
    "cat_images = glob.glob(\"*.jpg\")\n",
    "for i in range(100):\n",
    "    copyfile(cat_images[i], DATA_DIR + \"/sample/train/cats/\" + cat_images[i]) "
   ]
  },
  {
   "cell_type": "code",
   "execution_count": 8,
   "metadata": {},
   "outputs": [
    {
     "name": "stdout",
     "output_type": "stream",
     "text": [
      "/home/niraj/FastAI/catsdogs/data/valid/dogs\n",
      "/home/niraj/FastAI/catsdogs/data/valid/cats\n"
     ]
    }
   ],
   "source": [
    "%cd $DATA_DIR/valid/dogs\n",
    "dog_images = glob.glob(\"*.jpg\")\n",
    "for i in range(25):\n",
    "    copyfile(dog_images[i], DATA_DIR + \"/sample/valid/dogs/\" + dog_images[i])\n",
    "\n",
    "%cd $DATA_DIR/valid/cats\n",
    "cat_images = glob.glob(\"*.jpg\")\n",
    "for i in range(25):\n",
    "    copyfile(cat_images[i], DATA_DIR + \"/sample/valid/cats/\" + cat_images[i])"
   ]
  },
  {
   "cell_type": "code",
   "execution_count": 9,
   "metadata": {},
   "outputs": [
    {
     "name": "stdout",
     "output_type": "stream",
     "text": [
      "/home/niraj/FastAI/catsdogs\n"
     ]
    }
   ],
   "source": [
    "%cd $CODE_DIR"
   ]
  },
  {
   "cell_type": "code",
   "execution_count": null,
   "metadata": {},
   "outputs": [],
   "source": [
    "import json\n",
    "from utils import plot\n",
    "from matplotlib import pyplot as plt\n",
    "from vgg16 import VGG"
   ]
  }
 ],
 "metadata": {
  "kernelspec": {
   "display_name": "Python [conda env:fastai]",
   "language": "python",
   "name": "conda-env-fastai-py"
  },
  "language_info": {
   "codemirror_mode": {
    "name": "ipython",
    "version": 3
   },
   "file_extension": ".py",
   "mimetype": "text/x-python",
   "name": "python",
   "nbconvert_exporter": "python",
   "pygments_lexer": "ipython3",
   "version": "3.6.3"
  }
 },
 "nbformat": 4,
 "nbformat_minor": 2
}
